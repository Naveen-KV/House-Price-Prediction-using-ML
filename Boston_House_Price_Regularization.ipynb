{
 "cells": [
  {
   "cell_type": "markdown",
   "id": "d733a441",
   "metadata": {},
   "source": [
    "### We will try to find Boston House price using Lasso, Ridge and ElasticNet Regression Techniques.\n",
    "### We will also do feature selection using Lasso"
   ]
  },
  {
   "cell_type": "code",
   "execution_count": 1,
   "id": "e08bb142",
   "metadata": {},
   "outputs": [],
   "source": [
    "# Import Necessary Libraries\n",
    "\n",
    "import pandas as pd\n",
    "import numpy as np\n",
    "\n",
    "import matplotlib.pyplot as plt\n",
    "import seaborn as sns\n",
    "\n",
    "from sklearn.model_selection import train_test_split\n",
    "from sklearn.linear_model import Lasso, LogisticRegression\n",
    "from sklearn.feature_selection import SelectFromModel"
   ]
  },
  {
   "cell_type": "code",
   "execution_count": 55,
   "id": "9814f739",
   "metadata": {},
   "outputs": [],
   "source": [
    "# Load the preprocessed data\n",
    "\n",
    "data = pd.read_csv(\"boston_EDA.csv\")"
   ]
  },
  {
   "cell_type": "code",
   "execution_count": 56,
   "id": "6b4afafa",
   "metadata": {},
   "outputs": [
    {
     "data": {
      "text/html": [
       "<div>\n",
       "<style scoped>\n",
       "    .dataframe tbody tr th:only-of-type {\n",
       "        vertical-align: middle;\n",
       "    }\n",
       "\n",
       "    .dataframe tbody tr th {\n",
       "        vertical-align: top;\n",
       "    }\n",
       "\n",
       "    .dataframe thead th {\n",
       "        text-align: right;\n",
       "    }\n",
       "</style>\n",
       "<table border=\"1\" class=\"dataframe\">\n",
       "  <thead>\n",
       "    <tr style=\"text-align: right;\">\n",
       "      <th></th>\n",
       "      <th>CRIM</th>\n",
       "      <th>ZN</th>\n",
       "      <th>INDUS</th>\n",
       "      <th>CHAS</th>\n",
       "      <th>NOX</th>\n",
       "      <th>RM</th>\n",
       "      <th>AGE</th>\n",
       "      <th>DIS</th>\n",
       "      <th>RAD</th>\n",
       "      <th>PTRATIO</th>\n",
       "      <th>B</th>\n",
       "      <th>LSTAT</th>\n",
       "      <th>TAX</th>\n",
       "      <th>TARGET</th>\n",
       "    </tr>\n",
       "  </thead>\n",
       "  <tbody>\n",
       "    <tr>\n",
       "      <th>0</th>\n",
       "      <td>0.00632</td>\n",
       "      <td>18.0</td>\n",
       "      <td>2.31</td>\n",
       "      <td>0.0</td>\n",
       "      <td>0.538</td>\n",
       "      <td>6.575</td>\n",
       "      <td>65.2</td>\n",
       "      <td>4.0900</td>\n",
       "      <td>1.0</td>\n",
       "      <td>15.3</td>\n",
       "      <td>396.90</td>\n",
       "      <td>4.98</td>\n",
       "      <td>296.0</td>\n",
       "      <td>24.0</td>\n",
       "    </tr>\n",
       "    <tr>\n",
       "      <th>1</th>\n",
       "      <td>0.02731</td>\n",
       "      <td>0.0</td>\n",
       "      <td>7.07</td>\n",
       "      <td>0.0</td>\n",
       "      <td>0.469</td>\n",
       "      <td>6.421</td>\n",
       "      <td>78.9</td>\n",
       "      <td>4.9671</td>\n",
       "      <td>2.0</td>\n",
       "      <td>17.8</td>\n",
       "      <td>396.90</td>\n",
       "      <td>9.14</td>\n",
       "      <td>242.0</td>\n",
       "      <td>21.6</td>\n",
       "    </tr>\n",
       "    <tr>\n",
       "      <th>2</th>\n",
       "      <td>0.02729</td>\n",
       "      <td>0.0</td>\n",
       "      <td>7.07</td>\n",
       "      <td>0.0</td>\n",
       "      <td>0.469</td>\n",
       "      <td>7.185</td>\n",
       "      <td>61.1</td>\n",
       "      <td>4.9671</td>\n",
       "      <td>2.0</td>\n",
       "      <td>17.8</td>\n",
       "      <td>392.83</td>\n",
       "      <td>4.03</td>\n",
       "      <td>242.0</td>\n",
       "      <td>34.7</td>\n",
       "    </tr>\n",
       "    <tr>\n",
       "      <th>3</th>\n",
       "      <td>0.03237</td>\n",
       "      <td>0.0</td>\n",
       "      <td>2.18</td>\n",
       "      <td>0.0</td>\n",
       "      <td>0.458</td>\n",
       "      <td>6.998</td>\n",
       "      <td>45.8</td>\n",
       "      <td>6.0622</td>\n",
       "      <td>3.0</td>\n",
       "      <td>18.7</td>\n",
       "      <td>394.63</td>\n",
       "      <td>2.94</td>\n",
       "      <td>222.0</td>\n",
       "      <td>33.4</td>\n",
       "    </tr>\n",
       "    <tr>\n",
       "      <th>4</th>\n",
       "      <td>0.06905</td>\n",
       "      <td>0.0</td>\n",
       "      <td>2.18</td>\n",
       "      <td>0.0</td>\n",
       "      <td>0.458</td>\n",
       "      <td>7.147</td>\n",
       "      <td>54.2</td>\n",
       "      <td>6.0622</td>\n",
       "      <td>3.0</td>\n",
       "      <td>18.7</td>\n",
       "      <td>396.90</td>\n",
       "      <td>5.33</td>\n",
       "      <td>222.0</td>\n",
       "      <td>36.2</td>\n",
       "    </tr>\n",
       "  </tbody>\n",
       "</table>\n",
       "</div>"
      ],
      "text/plain": [
       "      CRIM    ZN  INDUS  CHAS    NOX     RM   AGE     DIS  RAD  PTRATIO  \\\n",
       "0  0.00632  18.0   2.31   0.0  0.538  6.575  65.2  4.0900  1.0     15.3   \n",
       "1  0.02731   0.0   7.07   0.0  0.469  6.421  78.9  4.9671  2.0     17.8   \n",
       "2  0.02729   0.0   7.07   0.0  0.469  7.185  61.1  4.9671  2.0     17.8   \n",
       "3  0.03237   0.0   2.18   0.0  0.458  6.998  45.8  6.0622  3.0     18.7   \n",
       "4  0.06905   0.0   2.18   0.0  0.458  7.147  54.2  6.0622  3.0     18.7   \n",
       "\n",
       "        B  LSTAT    TAX  TARGET  \n",
       "0  396.90   4.98  296.0    24.0  \n",
       "1  396.90   9.14  242.0    21.6  \n",
       "2  392.83   4.03  242.0    34.7  \n",
       "3  394.63   2.94  222.0    33.4  \n",
       "4  396.90   5.33  222.0    36.2  "
      ]
     },
     "execution_count": 56,
     "metadata": {},
     "output_type": "execute_result"
    }
   ],
   "source": [
    "data.head()"
   ]
  },
  {
   "cell_type": "code",
   "execution_count": 57,
   "id": "5818338a",
   "metadata": {},
   "outputs": [
    {
     "data": {
      "text/plain": [
       "(506, 14)"
      ]
     },
     "execution_count": 57,
     "metadata": {},
     "output_type": "execute_result"
    }
   ],
   "source": [
    "data.shape"
   ]
  },
  {
   "cell_type": "markdown",
   "id": "f583c8f8",
   "metadata": {},
   "source": [
    "In all feature selection procedures, it is good practice to select the features by examining only the training set. And this is to avoid overfit."
   ]
  },
  {
   "cell_type": "code",
   "execution_count": 58,
   "id": "e3cf311c",
   "metadata": {},
   "outputs": [],
   "source": [
    "x_train,x_test,y_train,y_test = train_test_split(data.drop([\"TARGET\"], axis = 1), data[\"TARGET\"], test_size = 0.3, random_state = 100)"
   ]
  },
  {
   "cell_type": "code",
   "execution_count": 59,
   "id": "fbed4dfd",
   "metadata": {},
   "outputs": [
    {
     "data": {
      "text/plain": [
       "((354, 13), (152, 13))"
      ]
     },
     "execution_count": 59,
     "metadata": {},
     "output_type": "execute_result"
    }
   ],
   "source": [
    "x_train.shape,x_test.shape"
   ]
  },
  {
   "cell_type": "code",
   "execution_count": 60,
   "id": "9da6b8c4",
   "metadata": {},
   "outputs": [],
   "source": [
    "# Do feature Scaling\n",
    "\n",
    "from sklearn.preprocessing import StandardScaler\n",
    "scale = StandardScaler()"
   ]
  },
  {
   "cell_type": "code",
   "execution_count": 61,
   "id": "2ce0e21e",
   "metadata": {},
   "outputs": [],
   "source": [
    "x_train_scale = scale.fit_transform(x_train)"
   ]
  },
  {
   "cell_type": "markdown",
   "id": "ba51a887",
   "metadata": {},
   "source": [
    "### Select Features with Lasso"
   ]
  },
  {
   "cell_type": "code",
   "execution_count": 78,
   "id": "ec391709",
   "metadata": {},
   "outputs": [
    {
     "data": {
      "text/plain": [
       "SelectFromModel(estimator=Lasso(alpha=1, random_state=10))"
      ]
     },
     "execution_count": 78,
     "metadata": {},
     "output_type": "execute_result"
    }
   ],
   "source": [
    "sel = SelectFromModel(Lasso(alpha=1, random_state=10))\n",
    "sel.fit(x_train_scale,y_train)"
   ]
  },
  {
   "cell_type": "code",
   "execution_count": 79,
   "id": "cca974b8",
   "metadata": {},
   "outputs": [
    {
     "data": {
      "text/plain": [
       "array([ True, False,  True, False, False,  True, False, False, False,\n",
       "        True,  True,  True,  True])"
      ]
     },
     "execution_count": 79,
     "metadata": {},
     "output_type": "execute_result"
    }
   ],
   "source": [
    "sel.get_support()"
   ]
  },
  {
   "cell_type": "code",
   "execution_count": 80,
   "id": "f83738ca",
   "metadata": {},
   "outputs": [],
   "source": [
    "sel_features = list(x_train.columns[sel.get_support()])"
   ]
  },
  {
   "cell_type": "code",
   "execution_count": 81,
   "id": "f1f297a8",
   "metadata": {},
   "outputs": [
    {
     "data": {
      "text/plain": [
       "['CRIM', 'INDUS', 'RM', 'PTRATIO', 'B', 'LSTAT', 'TAX']"
      ]
     },
     "execution_count": 81,
     "metadata": {},
     "output_type": "execute_result"
    }
   ],
   "source": [
    "sel_features"
   ]
  },
  {
   "cell_type": "code",
   "execution_count": 86,
   "id": "e8d225be",
   "metadata": {},
   "outputs": [],
   "source": [
    "x_train_data = x_train[sel_features]\n",
    "x_test_data = x_test[sel_features]"
   ]
  },
  {
   "cell_type": "code",
   "execution_count": 88,
   "id": "530f57b3",
   "metadata": {},
   "outputs": [],
   "source": [
    "xtrain_scale = scale.fit_transform(x_train_data)\n",
    "xtest_scale = scale.transform(x_test_data)"
   ]
  },
  {
   "cell_type": "code",
   "execution_count": null,
   "id": "2dab3037",
   "metadata": {},
   "outputs": [],
   "source": []
  },
  {
   "cell_type": "markdown",
   "id": "6e3a0cfe",
   "metadata": {},
   "source": [
    "### 1. Linear Regression"
   ]
  },
  {
   "cell_type": "code",
   "execution_count": 67,
   "id": "62c5e148",
   "metadata": {},
   "outputs": [],
   "source": [
    "from sklearn.linear_model import LinearRegression\n",
    "lr = LinearRegression()"
   ]
  },
  {
   "cell_type": "code",
   "execution_count": 89,
   "id": "8906a8dd",
   "metadata": {},
   "outputs": [
    {
     "data": {
      "text/plain": [
       "LinearRegression()"
      ]
     },
     "execution_count": 89,
     "metadata": {},
     "output_type": "execute_result"
    }
   ],
   "source": [
    "lr.fit(xtrain_scale, y_train)"
   ]
  },
  {
   "cell_type": "code",
   "execution_count": 90,
   "id": "280a2f6e",
   "metadata": {},
   "outputs": [],
   "source": [
    "y_train_pred = lr.predict(xtrain_scale)"
   ]
  },
  {
   "cell_type": "code",
   "execution_count": 91,
   "id": "6da0147a",
   "metadata": {},
   "outputs": [],
   "source": [
    "y_test_pred = lr.predict(xtest_scale)"
   ]
  },
  {
   "cell_type": "code",
   "execution_count": 92,
   "id": "e06150b3",
   "metadata": {},
   "outputs": [],
   "source": [
    "from sklearn.metrics import mean_squared_error"
   ]
  },
  {
   "cell_type": "code",
   "execution_count": 93,
   "id": "862881fb",
   "metadata": {},
   "outputs": [
    {
     "data": {
      "text/plain": [
       "19.72433700404926"
      ]
     },
     "execution_count": 93,
     "metadata": {},
     "output_type": "execute_result"
    }
   ],
   "source": [
    "mean_squared_error(y_train,y_train_pred)"
   ]
  },
  {
   "cell_type": "code",
   "execution_count": 94,
   "id": "dfd6b84f",
   "metadata": {},
   "outputs": [
    {
     "data": {
      "text/plain": [
       "18.975256617390126"
      ]
     },
     "execution_count": 94,
     "metadata": {},
     "output_type": "execute_result"
    }
   ],
   "source": [
    "mean_squared_error(y_test,y_test_pred)"
   ]
  },
  {
   "cell_type": "markdown",
   "id": "f0c62a87",
   "metadata": {},
   "source": [
    "### 2. Lasso Regression"
   ]
  },
  {
   "cell_type": "code",
   "execution_count": 82,
   "id": "a458044f",
   "metadata": {},
   "outputs": [],
   "source": [
    "from sklearn.linear_model import Lasso, LassoCV"
   ]
  },
  {
   "cell_type": "code",
   "execution_count": 104,
   "id": "dd5a5af6",
   "metadata": {},
   "outputs": [
    {
     "data": {
      "text/plain": [
       "LassoCV(cv=10)"
      ]
     },
     "execution_count": 104,
     "metadata": {},
     "output_type": "execute_result"
    }
   ],
   "source": [
    "lasscv = LassoCV(alphas = None, cv = 10)\n",
    "lasscv.fit(xtrain_scale,y_train)"
   ]
  },
  {
   "cell_type": "code",
   "execution_count": 105,
   "id": "7e09d5c6",
   "metadata": {},
   "outputs": [
    {
     "data": {
      "text/plain": [
       "0.03241701642902568"
      ]
     },
     "execution_count": 105,
     "metadata": {},
     "output_type": "execute_result"
    }
   ],
   "source": [
    "# best alpha parameter\n",
    "alpha = lasscv.alpha_\n",
    "alpha"
   ]
  },
  {
   "cell_type": "code",
   "execution_count": 106,
   "id": "4b9d78ff",
   "metadata": {},
   "outputs": [
    {
     "data": {
      "text/plain": [
       "Lasso(alpha=0.03241701642902568)"
      ]
     },
     "execution_count": 106,
     "metadata": {},
     "output_type": "execute_result"
    }
   ],
   "source": [
    "#now that we have best parameter, let's use Lasso regression and see how well our data has fitted before\n",
    "\n",
    "lasso_reg = Lasso(alpha)\n",
    "lasso_reg.fit(xtrain_scale, y_train)"
   ]
  },
  {
   "cell_type": "code",
   "execution_count": 107,
   "id": "1fcb8ce1",
   "metadata": {},
   "outputs": [],
   "source": [
    "ytrain_pred = lasso_reg.predict(xtrain_scale)"
   ]
  },
  {
   "cell_type": "code",
   "execution_count": 108,
   "id": "f5f8a9fe",
   "metadata": {},
   "outputs": [],
   "source": [
    "ytest_pred = lasso_reg.predict(xtest_scale)"
   ]
  },
  {
   "cell_type": "code",
   "execution_count": 109,
   "id": "aa4a1dc6",
   "metadata": {},
   "outputs": [
    {
     "data": {
      "text/plain": [
       "19.72433700404926"
      ]
     },
     "execution_count": 109,
     "metadata": {},
     "output_type": "execute_result"
    }
   ],
   "source": [
    "mean_squared_error(y_train,y_train_pred)"
   ]
  },
  {
   "cell_type": "code",
   "execution_count": 110,
   "id": "bad3c9ab",
   "metadata": {},
   "outputs": [
    {
     "data": {
      "text/plain": [
       "18.975256617390126"
      ]
     },
     "execution_count": 110,
     "metadata": {},
     "output_type": "execute_result"
    }
   ],
   "source": [
    "mean_squared_error(y_test,y_test_pred)"
   ]
  },
  {
   "cell_type": "code",
   "execution_count": null,
   "id": "0deb4a47",
   "metadata": {},
   "outputs": [],
   "source": []
  },
  {
   "cell_type": "markdown",
   "id": "0dd47049",
   "metadata": {},
   "source": [
    "### 3. Ridge Regression"
   ]
  },
  {
   "cell_type": "code",
   "execution_count": 101,
   "id": "65262047",
   "metadata": {},
   "outputs": [],
   "source": [
    "from sklearn.linear_model import Ridge, RidgeCV"
   ]
  },
  {
   "cell_type": "code",
   "execution_count": 112,
   "id": "379da6e2",
   "metadata": {},
   "outputs": [
    {
     "data": {
      "text/plain": [
       "RidgeCV(alphas=array([4.19019782, 4.25076911, 0.94233228, 0.8486756 , 0.9158549 ,\n",
       "       1.77285828, 6.83264932, 3.39763994, 7.1079104 , 8.72802624,\n",
       "       3.07387016, 7.25636541, 5.29391402, 3.44723264, 7.95024773,\n",
       "       1.33324525, 2.65458854, 6.2270398 , 3.04595462, 6.72714738,\n",
       "       6.26565422, 0.96498613, 2.04283617, 5.48852534, 8.94337299,\n",
       "       7.79995388, 8.3533579 , 1.24553642, 1.92211664, 9.42262716,\n",
       "       4.7400063 , 3.68154099, 0.60229966, 9.02835494, 6.01434362,\n",
       "       0.06095427, 6.83082852, 1.09360336, 8.95168496, 0.72565077,\n",
       "       9.88025768, 5.53123649, 6.795853  , 2.4466841 , 1.67322987,\n",
       "       0.16808926, 6.24127493, 6.221628  , 0.60064669, 7.10065383]),\n",
       "        cv=10)"
      ]
     },
     "execution_count": 112,
     "metadata": {},
     "output_type": "execute_result"
    }
   ],
   "source": [
    "alpha = np.random.uniform(low=0, high=10, size=(50,))\n",
    "ridgecv = RidgeCV(alphas = alpha,cv = 10)\n",
    "ridgecv.fit(xtrain_scale, y_train)"
   ]
  },
  {
   "cell_type": "code",
   "execution_count": 113,
   "id": "c08c6883",
   "metadata": {},
   "outputs": [
    {
     "data": {
      "text/plain": [
       "9.880257679285698"
      ]
     },
     "execution_count": 113,
     "metadata": {},
     "output_type": "execute_result"
    }
   ],
   "source": [
    "ridgecv.alpha_"
   ]
  },
  {
   "cell_type": "code",
   "execution_count": 114,
   "id": "8eb9532e",
   "metadata": {},
   "outputs": [
    {
     "data": {
      "text/plain": [
       "Ridge(alpha=9.880257679285698)"
      ]
     },
     "execution_count": 114,
     "metadata": {},
     "output_type": "execute_result"
    }
   ],
   "source": [
    "ridge_model = Ridge(alpha = ridgecv.alpha_)\n",
    "ridge_model.fit(xtrain_scale, y_train)"
   ]
  },
  {
   "cell_type": "code",
   "execution_count": 115,
   "id": "31b86377",
   "metadata": {},
   "outputs": [],
   "source": [
    "ytrain_pred = ridge_model.predict(xtrain_scale)"
   ]
  },
  {
   "cell_type": "code",
   "execution_count": 116,
   "id": "bd7a5b4d",
   "metadata": {},
   "outputs": [],
   "source": [
    "ytest_pred = ridge_model.predict(xtest_scale)"
   ]
  },
  {
   "cell_type": "code",
   "execution_count": 117,
   "id": "fbaea423",
   "metadata": {},
   "outputs": [
    {
     "data": {
      "text/plain": [
       "19.72433700404926"
      ]
     },
     "execution_count": 117,
     "metadata": {},
     "output_type": "execute_result"
    }
   ],
   "source": [
    "mean_squared_error(y_train,y_train_pred)"
   ]
  },
  {
   "cell_type": "code",
   "execution_count": 120,
   "id": "02be22f3",
   "metadata": {},
   "outputs": [
    {
     "data": {
      "text/plain": [
       "18.975256617390126"
      ]
     },
     "execution_count": 120,
     "metadata": {},
     "output_type": "execute_result"
    }
   ],
   "source": [
    "mean_squared_error(y_test,y_test_pred)"
   ]
  },
  {
   "cell_type": "code",
   "execution_count": null,
   "id": "6a9ad4d8",
   "metadata": {},
   "outputs": [],
   "source": []
  },
  {
   "cell_type": "markdown",
   "id": "c0a3c73d",
   "metadata": {},
   "source": [
    "### 4. ElasticNet Regression"
   ]
  },
  {
   "cell_type": "code",
   "execution_count": 121,
   "id": "ec5db7e5",
   "metadata": {},
   "outputs": [],
   "source": [
    "from sklearn.linear_model import ElasticNet, ElasticNetCV"
   ]
  },
  {
   "cell_type": "code",
   "execution_count": 122,
   "id": "819e8a16",
   "metadata": {},
   "outputs": [
    {
     "data": {
      "text/plain": [
       "ElasticNetCV(cv=10)"
      ]
     },
     "execution_count": 122,
     "metadata": {},
     "output_type": "execute_result"
    }
   ],
   "source": [
    "elcv = ElasticNetCV(cv = 10)\n",
    "elcv.fit(xtrain_scale, y_train)"
   ]
  },
  {
   "cell_type": "code",
   "execution_count": 123,
   "id": "8ea220ee",
   "metadata": {},
   "outputs": [
    {
     "data": {
      "text/plain": [
       "0.1302666785077834"
      ]
     },
     "execution_count": 123,
     "metadata": {},
     "output_type": "execute_result"
    }
   ],
   "source": [
    "elcv.alpha_"
   ]
  },
  {
   "cell_type": "code",
   "execution_count": 124,
   "id": "780953f0",
   "metadata": {},
   "outputs": [
    {
     "data": {
      "text/plain": [
       "0.5"
      ]
     },
     "execution_count": 124,
     "metadata": {},
     "output_type": "execute_result"
    }
   ],
   "source": [
    "elcv.l1_ratio"
   ]
  },
  {
   "cell_type": "code",
   "execution_count": 125,
   "id": "65e4390b",
   "metadata": {},
   "outputs": [
    {
     "data": {
      "text/plain": [
       "ElasticNet(alpha=0.1302666785077834)"
      ]
     },
     "execution_count": 125,
     "metadata": {},
     "output_type": "execute_result"
    }
   ],
   "source": [
    "el = ElasticNet(alpha = elcv.alpha_,l1_ratio = elcv.l1_ratio)\n",
    "el.fit(xtrain_scale, y_train)"
   ]
  },
  {
   "cell_type": "code",
   "execution_count": 130,
   "id": "4c21790e",
   "metadata": {},
   "outputs": [],
   "source": [
    "ytrain_pred = el.predict(xtrain_scale)"
   ]
  },
  {
   "cell_type": "code",
   "execution_count": 131,
   "id": "a0039d64",
   "metadata": {},
   "outputs": [],
   "source": [
    "ytest_pred = el.predict(xtest_scale)"
   ]
  },
  {
   "cell_type": "code",
   "execution_count": 132,
   "id": "3965ac72",
   "metadata": {},
   "outputs": [
    {
     "data": {
      "text/plain": [
       "19.72433700404926"
      ]
     },
     "execution_count": 132,
     "metadata": {},
     "output_type": "execute_result"
    }
   ],
   "source": [
    "mean_squared_error(y_train,y_train_pred)"
   ]
  },
  {
   "cell_type": "code",
   "execution_count": 133,
   "id": "04eba184",
   "metadata": {},
   "outputs": [
    {
     "data": {
      "text/plain": [
       "18.975256617390126"
      ]
     },
     "execution_count": 133,
     "metadata": {},
     "output_type": "execute_result"
    }
   ],
   "source": [
    "mean_squared_error(y_test,y_test_pred)"
   ]
  },
  {
   "cell_type": "code",
   "execution_count": null,
   "id": "2db9434e",
   "metadata": {},
   "outputs": [],
   "source": []
  }
 ],
 "metadata": {
  "kernelspec": {
   "display_name": "Python 3",
   "language": "python",
   "name": "python3"
  },
  "language_info": {
   "codemirror_mode": {
    "name": "ipython",
    "version": 3
   },
   "file_extension": ".py",
   "mimetype": "text/x-python",
   "name": "python",
   "nbconvert_exporter": "python",
   "pygments_lexer": "ipython3",
   "version": "3.8.8"
  }
 },
 "nbformat": 4,
 "nbformat_minor": 5
}
